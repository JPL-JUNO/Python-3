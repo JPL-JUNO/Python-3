{
 "cells": [
  {
   "cell_type": "code",
   "execution_count": 1,
   "metadata": {},
   "outputs": [],
   "source": [
    "import os\n",
    "import sys\n",
    "sys.path.append(\"./\")"
   ]
  },
  {
   "cell_type": "code",
   "execution_count": 2,
   "metadata": {},
   "outputs": [
    {
     "data": {
      "text/plain": [
       "'changing_the_string_representation_of_instances'"
      ]
     },
     "execution_count": 2,
     "metadata": {},
     "output_type": "execute_result"
    }
   ],
   "source": [
    "os.listdir(\"ch08\")[1].replace(\" \", \"_\").lower()"
   ]
  },
  {
   "cell_type": "code",
   "execution_count": 3,
   "metadata": {},
   "outputs": [
    {
     "name": "stdout",
     "output_type": "stream",
     "text": [
      "Calling a Method on a Parent Class\n",
      "changing_the_string_representation_of_instances\n",
      "Creating a New Kind of Class or Instance Attribute\n",
      "Creating Managed Attributes\n",
      "customizing_string_formatting\n",
      "Encapsulating Names in a Class\n",
      "Extending a Property in a Subclass\n",
      "Making Objects Support the Context-Management_protocol\n",
      "Saving Memory When Creating a Large Number of Instances\n",
      "Simplifying the Initialization of Data Structures\n",
      "t.ipynb\n",
      "Using Lazily Computed Properties\n"
     ]
    }
   ],
   "source": [
    "for folder in os.listdir(\"../ch08\"):\n",
    "    os.rename(folder, folder.replace(\" \", \"_\").lower())"
   ]
  },
  {
   "cell_type": "code",
   "execution_count": null,
   "metadata": {},
   "outputs": [],
   "source": []
  }
 ],
 "metadata": {
  "kernelspec": {
   "display_name": "Python 3",
   "language": "python",
   "name": "python3"
  },
  "language_info": {
   "codemirror_mode": {
    "name": "ipython",
    "version": 3
   },
   "file_extension": ".py",
   "mimetype": "text/x-python",
   "name": "python",
   "nbconvert_exporter": "python",
   "pygments_lexer": "ipython3",
   "version": "3.11.2"
  },
  "orig_nbformat": 4
 },
 "nbformat": 4,
 "nbformat_minor": 2
}
