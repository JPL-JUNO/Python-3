{
 "cells": [
  {
   "cell_type": "code",
   "execution_count": null,
   "metadata": {},
   "outputs": [],
   "source": [
    "\"\"\"\n",
    "@File         : data_structures.ipynb\n",
    "@Author(s)    : Stephen CUI\n",
    "@LastEditor(s): Stephen CUI\n",
    "@CreatedTime  : 2024-06-27 11:53:27\n",
    "@Email        : cuixuanstephen@gmail.com\n",
    "@Description  : \n",
    "\"\"\""
   ]
  },
  {
   "cell_type": "code",
   "execution_count": 3,
   "metadata": {},
   "outputs": [],
   "source": [
    "from data_structures import random_string, print_scaling"
   ]
  },
  {
   "cell_type": "markdown",
   "metadata": {},
   "source": [
    "## 列表 Lists"
   ]
  },
  {
   "cell_type": "code",
   "execution_count": 4,
   "metadata": {},
   "outputs": [
    {
     "name": "stdout",
     "output_type": "stream",
     "text": [
      "N = 10000 t = 0.07 (us) | N = 20000 t = 0.07 (us) | N = 30000 t = 0.07 (us)\n"
     ]
    }
   ],
   "source": [
    "print_scaling('collection.pop()', setup='collection = list(range({N}))')"
   ]
  },
  {
   "cell_type": "code",
   "execution_count": 5,
   "metadata": {},
   "outputs": [
    {
     "name": "stdout",
     "output_type": "stream",
     "text": [
      "N = 10000 t = 1.67 (us) | N = 20000 t = 3.67 (us) | N = 30000 t = 4.50 (us)\n"
     ]
    }
   ],
   "source": [
    "print_scaling('collection.pop(0)', setup='collection = list(range({N}))')"
   ]
  },
  {
   "cell_type": "code",
   "execution_count": 6,
   "metadata": {},
   "outputs": [
    {
     "name": "stdout",
     "output_type": "stream",
     "text": [
      "N = 10000 t = 0.08 (us) | N = 20000 t = 0.10 (us) | N = 30000 t = 0.03 (us)\n"
     ]
    }
   ],
   "source": [
    "print_scaling('collection.append(1)', setup='collection = list(range({N}))')"
   ]
  },
  {
   "cell_type": "code",
   "execution_count": 7,
   "metadata": {},
   "outputs": [
    {
     "name": "stdout",
     "output_type": "stream",
     "text": [
      "N = 10000 t = 5.32 (us) | N = 20000 t = 10.59 (us) | N = 30000 t = 13.16 (us)\n"
     ]
    }
   ],
   "source": [
    "print_scaling('collection.insert(0, 1)', setup='collection = list(range({N}))')"
   ]
  },
  {
   "cell_type": "code",
   "execution_count": 8,
   "metadata": {},
   "outputs": [
    {
     "name": "stdout",
     "output_type": "stream",
     "text": [
      "N = 10000 t = 2.37 (us) | N = 20000 t = 7.30 (us) | N = 30000 t = 8.94 (us)\n"
     ]
    }
   ],
   "source": [
    "# 在 index (param1) 位置插入 value (param2)\n",
    "print_scaling('collection.insert(5_000, 1)', setup='collection = list(range({N}))')"
   ]
  },
  {
   "cell_type": "code",
   "execution_count": 9,
   "metadata": {},
   "outputs": [
    {
     "name": "stdout",
     "output_type": "stream",
     "text": [
      "N = 10000 t = 53.21 (us) | N = 20000 t = 91.68 (us) | N = 30000 t = 148.28 (us)\n"
     ]
    }
   ],
   "source": [
    "setup_code = \"\"\"\n",
    "import random\n",
    "random.seed(42)\n",
    "\n",
    "collection = list(range({N}))\n",
    "\"\"\"\n",
    "\n",
    "print_scaling('collection.index(random.randint(0, {N}))', setup=setup_code)"
   ]
  },
  {
   "cell_type": "markdown",
   "metadata": {},
   "source": [
    "## 双端队列 Deque"
   ]
  },
  {
   "cell_type": "code",
   "execution_count": 10,
   "metadata": {},
   "outputs": [
    {
     "name": "stdout",
     "output_type": "stream",
     "text": [
      "N = 10000 t = 0.03 (us) | N = 20000 t = 0.10 (us) | N = 30000 t = 0.10 (us)\n"
     ]
    }
   ],
   "source": [
    "print_scaling('collection.pop()',\n",
    "              setup='from collections import deque; collection = deque(range({N}))')"
   ]
  },
  {
   "cell_type": "code",
   "execution_count": 11,
   "metadata": {},
   "outputs": [
    {
     "name": "stdout",
     "output_type": "stream",
     "text": [
      "N = 10000 t = 0.03 (us) | N = 20000 t = 0.03 (us) | N = 30000 t = 0.03 (us)\n"
     ]
    }
   ],
   "source": [
    "print_scaling('collection.popleft()',\n",
    "              setup='from collections import deque; collection = deque(range({N}))')"
   ]
  },
  {
   "cell_type": "code",
   "execution_count": 12,
   "metadata": {},
   "outputs": [
    {
     "name": "stdout",
     "output_type": "stream",
     "text": [
      "N = 10000 t = 0.07 (us) | N = 20000 t = 0.07 (us) | N = 30000 t = 0.06 (us)\n"
     ]
    }
   ],
   "source": [
    "print_scaling('collection.append(1)',\n",
    "              setup='from collections import deque; collection = deque(range({N}))')"
   ]
  },
  {
   "cell_type": "code",
   "execution_count": 13,
   "metadata": {},
   "outputs": [
    {
     "name": "stdout",
     "output_type": "stream",
     "text": [
      "N = 10000 t = 0.07 (us) | N = 20000 t = 0.07 (us) | N = 30000 t = 0.03 (us)\n"
     ]
    }
   ],
   "source": [
    "print_scaling('collection.appendleft(1)',\n",
    "              setup='from collections import deque; collection = deque(range({N}))')"
   ]
  },
  {
   "cell_type": "code",
   "execution_count": 15,
   "metadata": {},
   "outputs": [
    {
     "name": "stdout",
     "output_type": "stream",
     "text": [
      "N = 10000 t = 0.09 (us) | N = 20000 t = 0.10 (us) | N = 30000 t = 0.08 (us)\n",
      "N = 10000 t = 0.10 (us) | N = 20000 t = 0.09 (us) | N = 30000 t = 0.11 (us)\n",
      "N = 10000 t = 0.34 (us) | N = 20000 t = 0.38 (us) | N = 30000 t = 0.59 (us)\n"
     ]
    }
   ],
   "source": [
    "print_scaling('collection[0]',\n",
    "              setup='from collections import deque; collection = deque(range({N}))')\n",
    "print_scaling('collection[{N} - 1]',\n",
    "              setup='from collections import deque; collection = deque(range({N}))')\n",
    "print_scaling('collection[int({N}/2)]',\n",
    "              setup='from collections import deque; collection = deque(range({N}))')"
   ]
  },
  {
   "cell_type": "code",
   "execution_count": 16,
   "metadata": {},
   "outputs": [],
   "source": [
    "from bisect import bisect_left\n",
    "\n",
    "\n",
    "def index_bisect(a, x):\n",
    "    \"\"\"\"\"\"\n",
    "    i = bisect_left(a, x)\n",
    "    if i != len(a) and a[i] == x:\n",
    "        return i\n",
    "    raise ValueError"
   ]
  },
  {
   "cell_type": "code",
   "execution_count": 19,
   "metadata": {},
   "outputs": [
    {
     "data": {
      "text/plain": [
       "2"
      ]
     },
     "execution_count": 19,
     "metadata": {},
     "output_type": "execute_result"
    }
   ],
   "source": [
    "import bisect\n",
    "collection = [1, 2, 4, 5, 6]\n",
    "bisect.bisect(collection, 3)"
   ]
  },
  {
   "cell_type": "code",
   "execution_count": 18,
   "metadata": {},
   "outputs": [
    {
     "name": "stdout",
     "output_type": "stream",
     "text": [
      "N = 10000 t = 2.76 (us) | N = 20000 t = 2.90 (us) | N = 30000 t = 3.11 (us)\n"
     ]
    }
   ],
   "source": [
    "setup_code = \"\"\"\n",
    "from __main__ import index_bisect\n",
    "\n",
    "import random\n",
    "random.seed(42)\n",
    "\n",
    "collection = list(range({N}))\n",
    "\"\"\"\n",
    "\n",
    "print_scaling('index_bisect(collection, random.randint(0, {N}))',\n",
    "              setup=setup_code)"
   ]
  },
  {
   "cell_type": "code",
   "execution_count": null,
   "metadata": {},
   "outputs": [],
   "source": []
  }
 ],
 "metadata": {
  "kernelspec": {
   "display_name": "Python 3",
   "language": "python",
   "name": "python3"
  },
  "language_info": {
   "codemirror_mode": {
    "name": "ipython",
    "version": 3
   },
   "file_extension": ".py",
   "mimetype": "text/x-python",
   "name": "python",
   "nbconvert_exporter": "python",
   "pygments_lexer": "ipython3",
   "version": "3.11.1"
  }
 },
 "nbformat": 4,
 "nbformat_minor": 2
}
