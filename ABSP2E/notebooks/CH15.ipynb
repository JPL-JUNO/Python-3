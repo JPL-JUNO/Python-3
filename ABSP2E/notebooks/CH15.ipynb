{
 "cells": [
  {
   "cell_type": "code",
   "execution_count": 1,
   "metadata": {},
   "outputs": [
    {
     "name": "stdout",
     "output_type": "stream",
     "text": [
      "\n",
      "@File         : CH15.ipynb\n",
      "@Author(s)    : Stephen CUI\n",
      "@LastEditor(s): Stephen CUI\n",
      "@CreatedTime  : 2024-09-01 14:38:56\n",
      "@Email        : cuixuanstephen@gmail.com\n",
      "@Description  : 处理 PDF 和 Word 文档\n",
      "\n"
     ]
    }
   ],
   "source": [
    "print(\"\"\"\n",
    "@File         : CH15.ipynb\n",
    "@Author(s)    : Stephen CUI\n",
    "@LastEditor(s): Stephen CUI\n",
    "@CreatedTime  : 2024-09-01 14:38:56\n",
    "@Email        : cuixuanstephen@gmail.com\n",
    "@Description  : 处理 PDF 和 Word 文档\n",
    "\"\"\")"
   ]
  },
  {
   "cell_type": "code",
   "execution_count": 2,
   "metadata": {},
   "outputs": [
    {
     "name": "stdout",
     "output_type": "stream",
     "text": [
      "d:\\Python-3\\ABSP2E\n"
     ]
    }
   ],
   "source": [
    "%cd ../"
   ]
  },
  {
   "cell_type": "code",
   "execution_count": 3,
   "metadata": {},
   "outputs": [],
   "source": [
    "import docx"
   ]
  },
  {
   "cell_type": "markdown",
   "metadata": {},
   "source": [
    "## Word 文档\n",
    "\n",
    "和纯文本相比，.docx 文档有很多结构。这些结构在 python-docx 中用 3 种不同的类型来表示。在最高一层，`Document` 对象表示整个文档。`Document` 对象包含一个 `Paragraph` 对象的列表表示文档中的段落（用户在 Word 文档中输入时，如果按回车键，新的段落就开始了）。每个 `Paragraph` 对象都包含一个 `Run` 对象的列表。"
   ]
  },
  {
   "cell_type": "markdown",
   "metadata": {},
   "source": [
    "![一个 `Paragraph` 对象中识别的 `Run` 对象](../img/fig15-4.png)"
   ]
  },
  {
   "cell_type": "markdown",
   "metadata": {},
   "source": [
    "Word 文档中的文本不仅仅是字符串，它还包含与之相关的字体、大小、颜色和其他样式信息。在 Word 文档中，样式是这些属性的集合。一个 `Run` 对象是相同样式文本的延续。当文本样式发生改变时，就需要一个新的 `Run` 对象。"
   ]
  },
  {
   "cell_type": "markdown",
   "metadata": {},
   "source": [
    "### 读取 Word 文档"
   ]
  },
  {
   "cell_type": "code",
   "execution_count": 36,
   "metadata": {},
   "outputs": [
    {
     "data": {
      "text/plain": [
       "7"
      ]
     },
     "execution_count": 36,
     "metadata": {},
     "output_type": "execute_result"
    }
   ],
   "source": [
    "doc = docx.Document('data/ch15/demo.docx')\n",
    "len(doc.paragraphs)"
   ]
  },
  {
   "cell_type": "code",
   "execution_count": 37,
   "metadata": {},
   "outputs": [
    {
     "data": {
      "text/plain": [
       "'Document Title'"
      ]
     },
     "execution_count": 37,
     "metadata": {},
     "output_type": "execute_result"
    }
   ],
   "source": [
    "doc.paragraphs[0].text"
   ]
  },
  {
   "cell_type": "code",
   "execution_count": 38,
   "metadata": {},
   "outputs": [
    {
     "data": {
      "text/plain": [
       "'A plain paragraph with some bold and some italic'"
      ]
     },
     "execution_count": 38,
     "metadata": {},
     "output_type": "execute_result"
    }
   ],
   "source": [
    "doc.paragraphs[1].text"
   ]
  },
  {
   "cell_type": "code",
   "execution_count": 39,
   "metadata": {},
   "outputs": [
    {
     "data": {
      "text/plain": [
       "5"
      ]
     },
     "execution_count": 39,
     "metadata": {},
     "output_type": "execute_result"
    }
   ],
   "source": [
    "len(doc.paragraphs[1].runs)"
   ]
  },
  {
   "cell_type": "code",
   "execution_count": 40,
   "metadata": {},
   "outputs": [
    {
     "data": {
      "text/plain": [
       "'A plain paragraph with'"
      ]
     },
     "execution_count": 40,
     "metadata": {},
     "output_type": "execute_result"
    }
   ],
   "source": [
    "doc.paragraphs[1].runs[0].text"
   ]
  },
  {
   "cell_type": "code",
   "execution_count": 41,
   "metadata": {},
   "outputs": [
    {
     "data": {
      "text/plain": [
       "' some '"
      ]
     },
     "execution_count": 41,
     "metadata": {},
     "output_type": "execute_result"
    }
   ],
   "source": [
    "doc.paragraphs[1].runs[1].text"
   ]
  },
  {
   "cell_type": "code",
   "execution_count": 42,
   "metadata": {},
   "outputs": [
    {
     "data": {
      "text/plain": [
       "'bold'"
      ]
     },
     "execution_count": 42,
     "metadata": {},
     "output_type": "execute_result"
    }
   ],
   "source": [
    "doc.paragraphs[1].runs[2].text"
   ]
  },
  {
   "cell_type": "code",
   "execution_count": 43,
   "metadata": {},
   "outputs": [
    {
     "data": {
      "text/plain": [
       "' and some '"
      ]
     },
     "execution_count": 43,
     "metadata": {},
     "output_type": "execute_result"
    }
   ],
   "source": [
    "doc.paragraphs[1].runs[3].text"
   ]
  },
  {
   "cell_type": "code",
   "execution_count": 44,
   "metadata": {},
   "outputs": [
    {
     "data": {
      "text/plain": [
       "'italic'"
      ]
     },
     "execution_count": 44,
     "metadata": {},
     "output_type": "execute_result"
    }
   ],
   "source": [
    "doc.paragraphs[1].runs[4].text"
   ]
  },
  {
   "cell_type": "markdown",
   "metadata": {},
   "source": [
    "我们在 Python 中打开了一个 .docx 文档，通过调用 `docx.Document()` 来传入文档名 demo.docx。这将返回一个 `Document` 对象，它有 `paragraphs` 属性，是 `Paragraph` 对象的列表。如果我们对 `doc.paragraphs` 调用 `len()`，将返回 7。这告诉我们，该文档有 7 个 `Paragraph` 对象。每个 `Paragraph` 对象都有一个 `text` 属性，该属性包含该段中文本的字符串（没有样式信息）。这里，第一个 `text` 属性包含 'Document Title'，第二个包含 'A plain paragraph with some bold and some italic'。\n",
    "\n",
    "每个 `Paragraph` 对象也有一个 `runs` 属性，它是 `Run` 对象的列表。`Run` 对象也有一个 `text` 属性，包含特定运行中的文本。我们看看第二个 `Paragraph` 对象中的 `text` 属性：'A plain paragraph with some bold and some italic'。对这个 `Paragraph` 对象调用 `len()`，结果告诉我们有 5 个 `Run` 对象。第一个对象包含'A plain paragraph with some'。"
   ]
  },
  {
   "cell_type": "markdown",
   "metadata": {},
   "source": [
    "## 从 .docx 文档中取得完整的文本"
   ]
  },
  {
   "cell_type": "markdown",
   "metadata": {},
   "source": [
    "如果你只关心 Word 文档中的文本，不关心样式信息，那么可以利用 `get_text()` 函数。它接收一个 .docx 文档名，并返回其中文本的字符串。"
   ]
  },
  {
   "cell_type": "code",
   "execution_count": 45,
   "metadata": {},
   "outputs": [],
   "source": [
    "def get_text(file_name):\n",
    "    doc = docx.Document(file_name)\n",
    "    full_text = []\n",
    "    for para in doc.paragraphs:\n",
    "        full_text.append(para.text)\n",
    "    return '\\n'.join(full_text)"
   ]
  },
  {
   "cell_type": "code",
   "execution_count": 47,
   "metadata": {},
   "outputs": [
    {
     "name": "stdout",
     "output_type": "stream",
     "text": [
      "Document Title\n",
      "A plain paragraph with some bold and some italic\n",
      "Heading, level 1\n",
      "Intense quote\n",
      "first item in unordered list\n",
      "first item in ordered list\n",
      "\n"
     ]
    }
   ],
   "source": [
    "print(get_text('data/ch15/demo.docx'))"
   ]
  },
  {
   "cell_type": "markdown",
   "metadata": {},
   "source": [
    "### 设置 `Paragraph` 和 `Run` 对象的样式"
   ]
  },
  {
   "cell_type": "markdown",
   "metadata": {},
   "source": [
    "对于 Word 文档，有 3 种类型的样式：“段落样式”可以应用于 `Paragraph` 对象，“字符样式”可以应用于 `Run` 对象，“链接的样式”可以应用于这两种对象。可以将 `Paragraph` 和 `Run` 对象的 `style` 属性设置为一个字符串，从而设置样式。这个字符串应该是一种样式的名称。如果 `style` 被设置为 `None`，就没有样式与 `Paragraph` 或 `Run` 对象关联。"
   ]
  },
  {
   "cell_type": "markdown",
   "metadata": {},
   "source": [
    "默认 Word 样式的字符串如下：\n",
    "\n",
    "- 'Normal'\n",
    "- 'Body Text'\n",
    "- 'Body Text 2'\n",
    "- 'Body Text 3'\n",
    "- 'Caption'\n",
    "- 'Heading 1'\n",
    "- 'Heading 2'\n",
    "- 'Heading 3'\n",
    "- 'Heading 4'\n",
    "- 'Heading 5'\n",
    "- 'Heading 6'\n",
    "- 'Heading 7'\n",
    "- 'Heading 8'\n",
    "- 'Heading 9'\n",
    "- 'Intense Quote'\n",
    "- 'List'\n",
    "- 'List 2'\n",
    "- 'List 3'\n",
    "- 'List Bullet'\n",
    "- 'List Bullet 2'\n",
    "- 'List Bullet 3'\n",
    "- 'List Continue'\n",
    "- 'List Continue 2'\n",
    "- 'List Continue 3'\n",
    "- 'List Number '\n",
    "- 'List Number 2'\n",
    "- 'List Number 3'\n",
    "- 'List Paragraph'\n",
    "- 'MacroText'\n",
    "- 'No Spacing'\n",
    "- 'Quote'\n",
    "- 'Subtitle'\n",
    "- 'TOC Heading'\n",
    "- 'Title'"
   ]
  },
  {
   "cell_type": "markdown",
   "metadata": {},
   "source": [
    "如果对 `Run` 对象应用链接的样式，那么需要在样式名称末尾加上 `Char`。例如，对 `Paragraph` 对象设置 `Quote` 链接的样式，应该使用 `paragraphObj.style = 'Quote'`；但对于 `Run` 对象，应该使用 `runObj.style = 'QuoteChar'`。"
   ]
  },
  {
   "cell_type": "markdown",
   "metadata": {},
   "source": [
    "### 创建带有非默认样式的 Word 文档"
   ]
  },
  {
   "cell_type": "markdown",
   "metadata": {},
   "source": [
    "如果想要创建的 Word 文档使用默认样式以外的样式，就需要打开一个空白 Word 文档，通过单击样式窗口底部的 New Style 按钮来自己创建样式"
   ]
  },
  {
   "cell_type": "markdown",
   "metadata": {},
   "source": [
    "### `Run` 属性"
   ]
  },
  {
   "cell_type": "markdown",
   "metadata": {},
   "source": [
    "通过 `text` 属性，`Run` 可以进一步设置样式。每个属性都可以被设置为 3 个值之一：`True`（该属性总是启用，不论其他样式是否应用于该 `Run`）、`False`（该属性总是禁用）或 `None`（默认使用该 `Run` 被设置的任何属性）。"
   ]
  },
  {
   "cell_type": "markdown",
   "metadata": {},
   "source": [
    "|属性|描述|\n",
    "|---|---|\n",
    "|bold|文本以粗体出现|\n",
    "|italic|文本以斜体出现|\n",
    "|underline|文本带下划线|\n",
    "|strike|文本带删除线|\n",
    "|double_strike|文本带双删除线|\n",
    "|all_caps|文本以大写字母出现|\n",
    "|small_caps|文本以大写字母出现，但大小和小写字母一样|\n",
    "|shadow|文本带阴影|\n",
    "|outline|文本以轮廓线出现，而不是以实心出现|\n",
    "|rtl|文本从右至左书写|\n",
    "|imprint|文本以刻入页面的方式出现|\n",
    "|emboss|文本以凸出页面的方式出现"
   ]
  },
  {
   "cell_type": "code",
   "execution_count": 67,
   "metadata": {},
   "outputs": [
    {
     "data": {
      "text/plain": [
       "'Document Title'"
      ]
     },
     "execution_count": 67,
     "metadata": {},
     "output_type": "execute_result"
    }
   ],
   "source": [
    "doc = docx.Document('data/ch15/demo.docx')\n",
    "doc.paragraphs[0].text"
   ]
  },
  {
   "cell_type": "code",
   "execution_count": 68,
   "metadata": {},
   "outputs": [
    {
     "data": {
      "text/plain": [
       "_ParagraphStyle('Title') id: 1826024969296"
      ]
     },
     "execution_count": 68,
     "metadata": {},
     "output_type": "execute_result"
    }
   ],
   "source": [
    "doc.paragraphs[0].style"
   ]
  },
  {
   "cell_type": "code",
   "execution_count": 69,
   "metadata": {},
   "outputs": [
    {
     "data": {
      "text/plain": [
       "'A plain paragraph with some bold and some italic'"
      ]
     },
     "execution_count": 69,
     "metadata": {},
     "output_type": "execute_result"
    }
   ],
   "source": [
    "doc.paragraphs[0].style = 'Normal'\n",
    "doc.paragraphs[1].text"
   ]
  },
  {
   "cell_type": "code",
   "execution_count": 70,
   "metadata": {},
   "outputs": [
    {
     "data": {
      "text/plain": [
       "('A plain paragraph with', ' some ', 'bold', ' and some ', 'italic')"
      ]
     },
     "execution_count": 70,
     "metadata": {},
     "output_type": "execute_result"
    }
   ],
   "source": [
    "doc.paragraphs[1].runs[0].text, doc.paragraphs[1].runs[1].text, doc.paragraphs[1].runs[2].text, doc.paragraphs[1].runs[3].text, doc.paragraphs[1].runs[4].text,"
   ]
  },
  {
   "cell_type": "code",
   "execution_count": 71,
   "metadata": {},
   "outputs": [],
   "source": [
    "doc.paragraphs[1].runs[0].style = 'QuoteChar'\n",
    "doc.paragraphs[1].runs[1].underline = True\n",
    "doc.paragraphs[1].runs[3].underline = True\n",
    "\n",
    "doc.save('res/restyled.docx')"
   ]
  },
  {
   "cell_type": "markdown",
   "metadata": {},
   "source": [
    "### 写入 Word 文档"
   ]
  },
  {
   "cell_type": "code",
   "execution_count": 72,
   "metadata": {},
   "outputs": [],
   "source": [
    "doc = docx.Document()\n",
    "doc.add_paragraph('Hello, Word!')\n",
    "\n",
    "doc.save('res/helloWord.docx')"
   ]
  },
  {
   "cell_type": "markdown",
   "metadata": {},
   "source": [
    "要创建自己的 .docx 文档，就调用 `docx.Document()`，返回一个新的、空白的 Word `Document` 对象。`Document` 对象的 `add_paragraph()` 方法将一段新文本添加到文档中，并返回添加的 `Paragraph` 对象的引用。在添加完文本之后，向 `Document` 对象的 `save()`方法传入一个文件名字符串，将 `Document` 对象保存到文档。"
   ]
  },
  {
   "cell_type": "markdown",
   "metadata": {},
   "source": [
    "再次调用 `add_paragraph()` 方法和新的段落文本来添加段落。或者，要在已有段落的末尾添加文本，可以调用 `Paragraph` 对象的 `add_run()` 方法，以向它传入一个字符串。"
   ]
  },
  {
   "cell_type": "code",
   "execution_count": 74,
   "metadata": {},
   "outputs": [],
   "source": [
    "para_obj1 = doc.add_paragraph('This is a second paragraph.')\n",
    "para_obj2 = doc.add_paragraph('This is a yet another paragraph.')\n",
    "para_obj1.add_run(' This text is being added to the second paragraph.')\n",
    "doc.save('res/multipleParagraphs.docx')"
   ]
  },
  {
   "cell_type": "markdown",
   "metadata": {},
   "source": [
    "`add_paragraph()` 和 `add_run()` 分别返回 `Paragraph` 和 `Run` 对象，这样你就不必多花一步来提取它们。\n",
    "\n",
    "`add_paragraph()` 和 `add_run()` 都接收可选的第二个参数，它是表示 `Paragraph` 或 `Run` 对象样式的字符串。"
   ]
  },
  {
   "cell_type": "code",
   "execution_count": 75,
   "metadata": {},
   "outputs": [
    {
     "data": {
      "text/plain": [
       "<docx.text.paragraph.Paragraph at 0x1a9279b1550>"
      ]
     },
     "execution_count": 75,
     "metadata": {},
     "output_type": "execute_result"
    }
   ],
   "source": [
    "doc.add_paragraph('Hello, Word!', 'Title')"
   ]
  },
  {
   "cell_type": "markdown",
   "metadata": {},
   "source": [
    "### 添加标题"
   ]
  },
  {
   "cell_type": "markdown",
   "metadata": {},
   "source": [
    "调用 `add_heading()` 将添加一个段落，并使用一种标题样式。"
   ]
  },
  {
   "cell_type": "code",
   "execution_count": 76,
   "metadata": {},
   "outputs": [],
   "source": [
    "doc = docx.Document()\n",
    "doc.add_heading('Header 0', 0)\n",
    "doc.add_heading('Header 1', 1)\n",
    "doc.add_heading('Header 2', 2)\n",
    "doc.add_heading('Header 3', 3)\n",
    "doc.add_heading('Header 4', 4)\n",
    "doc.save('res/headings.docx')"
   ]
  },
  {
   "cell_type": "markdown",
   "metadata": {},
   "source": [
    "`add_heading()` 的参数是一个标题文本的字符串，以及一个从 0 到 4 的整数。整数 0 表示标题是 Title 样式，这用于文档的顶部。整数 1 到 4 是不同的标题层次，1 是主要的标题，4 是最低层的子标题。`add_heading()` 返回一个 `Paragraph` 对象。"
   ]
  },
  {
   "cell_type": "markdown",
   "metadata": {},
   "source": [
    "### 添加换行符和换页符\n",
    "\n",
    "要添加换行符（而不是开始一个新的段落），可以在 `Run` 对象上调用 `add_break()` 方法，换行符将出现在它后面。如果希望添加换页符，可以将 `docx.text.WD_BREAK.PAGE` 作为唯一的参数，传递给 `add_break()`。"
   ]
  },
  {
   "cell_type": "code",
   "execution_count": 77,
   "metadata": {},
   "outputs": [
    {
     "data": {
      "text/plain": [
       "<docx.text.paragraph.Paragraph at 0x1a928b72cd0>"
      ]
     },
     "execution_count": 77,
     "metadata": {},
     "output_type": "execute_result"
    }
   ],
   "source": [
    "doc = docx.Document()\n",
    "doc.add_paragraph('This is on the first page!')"
   ]
  },
  {
   "cell_type": "code",
   "execution_count": 78,
   "metadata": {},
   "outputs": [],
   "source": [
    "doc.paragraphs[0].runs[0].add_break(docx.enum.text.WD_BREAK.PAGE)"
   ]
  },
  {
   "cell_type": "code",
   "execution_count": 79,
   "metadata": {},
   "outputs": [
    {
     "data": {
      "text/plain": [
       "<docx.text.paragraph.Paragraph at 0x1a9279b1c50>"
      ]
     },
     "execution_count": 79,
     "metadata": {},
     "output_type": "execute_result"
    }
   ],
   "source": [
    "doc.add_paragraph('This is on the second page!')"
   ]
  },
  {
   "cell_type": "code",
   "execution_count": 81,
   "metadata": {},
   "outputs": [],
   "source": [
    "doc.save('res/twoPage.docx')"
   ]
  },
  {
   "cell_type": "markdown",
   "metadata": {},
   "source": [
    "### 添加图像\n",
    "\n",
    "`Document` 对象有一个 `add_picture()` 方法，可以让你在文档末尾添加图像。\n",
    "\n",
    "第一个参数是一个字符串，表示图像的文件名。可选的 `width` 和 `height` 关键字参数将设置该图像在文档中的宽度和高度；如果省略，宽度和高度将采用默认值，即该图像的正常尺寸。\n",
    "\n",
    "你可能愿意用熟悉的单位来指定图像的高度和宽度，如英寸或厘米。所以在指定 `width` 和 `height` 关键字参数时，可以使用 `docx.shared.Inches()` 和 `docx.shared.Cm()` 函数。"
   ]
  },
  {
   "cell_type": "code",
   "execution_count": 82,
   "metadata": {},
   "outputs": [
    {
     "data": {
      "text/plain": [
       "<docx.shape.InlineShape at 0x1a928b07850>"
      ]
     },
     "execution_count": 82,
     "metadata": {},
     "output_type": "execute_result"
    }
   ],
   "source": [
    "import docx.shared\n",
    "\n",
    "\n",
    "doc.add_picture('data/ch15/zophie.png', width=docx.shared.Inches(1), height=docx.shared.Cm(4))"
   ]
  },
  {
   "cell_type": "code",
   "execution_count": 83,
   "metadata": {},
   "outputs": [],
   "source": [
    "doc.save('res/picturePage.docx')"
   ]
  },
  {
   "cell_type": "markdown",
   "metadata": {},
   "source": [
    "## 从 Word 文档中创建 PDF"
   ]
  },
  {
   "cell_type": "markdown",
   "metadata": {},
   "source": [
    "PyPDF2 模块不允许你直接创建PDF文档，但如果你在 Windows 操作系统上安装了 Microsoft Word，那么有一种方法可以用 Python 生成 PDF 文档。你需要运行 `pip install --user --U pywin32==224` 来安装 Pywin32 包。"
   ]
  },
  {
   "cell_type": "markdown",
   "metadata": {},
   "source": []
  }
 ],
 "metadata": {
  "kernelspec": {
   "display_name": "Python 3",
   "language": "python",
   "name": "python3"
  },
  "language_info": {
   "codemirror_mode": {
    "name": "ipython",
    "version": 3
   },
   "file_extension": ".py",
   "mimetype": "text/x-python",
   "name": "python",
   "nbconvert_exporter": "python",
   "pygments_lexer": "ipython3",
   "version": "3.11.1"
  }
 },
 "nbformat": 4,
 "nbformat_minor": 2
}
