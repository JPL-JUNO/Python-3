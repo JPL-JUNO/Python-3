{
 "cells": [
  {
   "cell_type": "code",
   "execution_count": 1,
   "metadata": {},
   "outputs": [
    {
     "name": "stdout",
     "output_type": "stream",
     "text": [
      "\n",
      "@File         : dictionaries_and_sets.ipynb\n",
      "@Author(s)    : Stephen CUI\n",
      "@LastEditor(s): Stephen CUI\n",
      "@CreatedTime  : 2024-03-04 19:55:05\n",
      "@Email        : cuixuanstephen@gmail.com\n",
      "@Description  : 字典与集合\n",
      "\n"
     ]
    }
   ],
   "source": [
    "print(\"\"\"\n",
    "@File         : dictionaries_and_sets.ipynb\n",
    "@Author(s)    : Stephen CUI\n",
    "@LastEditor(s): Stephen CUI\n",
    "@CreatedTime  : 2024-03-04 19:55:05\n",
    "@Email        : cuixuanstephen@gmail.com\n",
    "@Description  : 字典与集合\n",
    "\"\"\")"
   ]
  },
  {
   "cell_type": "markdown",
   "metadata": {},
   "source": [
    "**Example 4-1. Phone book lookup with a list**"
   ]
  },
  {
   "cell_type": "code",
   "execution_count": 2,
   "metadata": {},
   "outputs": [
    {
     "name": "stdout",
     "output_type": "stream",
     "text": [
      "John Doe's phone number is 555-555-5555\n"
     ]
    }
   ],
   "source": [
    "def find_phone_number(phone_book, name):\n",
    "    for n, p in phone_book:\n",
    "        if n == name:\n",
    "            return p\n",
    "    return None\n",
    "\n",
    "\n",
    "phone_book = [\n",
    "    (\"John Doe\", \"555-555-5555\"),\n",
    "    (\"Albert Einstein\", \"212-555-5555\"),\n",
    "]\n",
    "print(f\"John Doe's phone number is {find_phone_number(phone_book, 'John Doe')}\")"
   ]
  },
  {
   "cell_type": "markdown",
   "metadata": {},
   "source": [
    "**Example 4-2. Phone book lookup with a dictionary**"
   ]
  },
  {
   "cell_type": "code",
   "execution_count": 3,
   "metadata": {},
   "outputs": [
    {
     "name": "stdout",
     "output_type": "stream",
     "text": [
      "John Doe's phone number is 555-555-5555\n"
     ]
    }
   ],
   "source": [
    "phone_book = {\n",
    "    \"John Doe\": \"555-555-5555\",\n",
    "    \"Albert Einstein\": \"212-555-5555\",\n",
    "}\n",
    "print(f\"John Doe's phone number is {phone_book['John Doe']}\")"
   ]
  },
  {
   "cell_type": "markdown",
   "metadata": {},
   "source": [
    "**Example 4-3. Finding unique names with lists and sets**"
   ]
  },
  {
   "cell_type": "code",
   "execution_count": 17,
   "metadata": {},
   "outputs": [],
   "source": [
    "import random, string\n",
    "\n",
    "def list_unique_names(phone_book):\n",
    "    unique_names = []\n",
    "    for name, _ in phone_book:\n",
    "        # 仅使用第一个空格进行分割\n",
    "        first_name, _ = name.split(\" \", 1)\n",
    "        for unique in unique_names:\n",
    "            if unique == first_name:\n",
    "                break\n",
    "        else:\n",
    "            unique_names.append(first_name)\n",
    "    return len(unique_names)\n",
    "\n",
    "\n",
    "def set_unique_names(phone_book):\n",
    "    unique_names = set()\n",
    "    for name, _ in phone_book:\n",
    "        first_name, _ = name.split(\" \", 1)\n",
    "        unique_names.add(first_name)\n",
    "    return len(unique_names)\n",
    "\n",
    "\n",
    "def random_name():\n",
    "    first_name = \"\".join(random.sample(string.ascii_letters, 8))\n",
    "    last_name = \"\".join(random.sample(string.ascii_letters, 8))\n",
    "    return f\"{first_name} {last_name}\"\n",
    "\n",
    "\n",
    "large_phone_book = [(random_name(), \"132-1234-1232\") for _ in range(10000)]"
   ]
  },
  {
   "cell_type": "code",
   "execution_count": 18,
   "metadata": {},
   "outputs": [
    {
     "name": "stdout",
     "output_type": "stream",
     "text": [
      "1.31 s ± 57.7 ms per loop (mean ± std. dev. of 7 runs, 1 loop each)\n"
     ]
    }
   ],
   "source": [
    "%timeit list_unique_names(large_phone_book)"
   ]
  },
  {
   "cell_type": "code",
   "execution_count": 19,
   "metadata": {},
   "outputs": [
    {
     "name": "stdout",
     "output_type": "stream",
     "text": [
      "1.83 ms ± 32.4 µs per loop (mean ± std. dev. of 7 runs, 100 loops each)\n"
     ]
    }
   ],
   "source": [
    "%timeit set_unique_names(large_phone_book)"
   ]
  },
  {
   "cell_type": "code",
   "execution_count": null,
   "metadata": {},
   "outputs": [],
   "source": []
  }
 ],
 "metadata": {
  "kernelspec": {
   "display_name": "Python 3",
   "language": "python",
   "name": "python3"
  },
  "language_info": {
   "codemirror_mode": {
    "name": "ipython",
    "version": 3
   },
   "file_extension": ".py",
   "mimetype": "text/x-python",
   "name": "python",
   "nbconvert_exporter": "python",
   "pygments_lexer": "ipython3",
   "version": "3.11.1"
  }
 },
 "nbformat": 4,
 "nbformat_minor": 2
}
