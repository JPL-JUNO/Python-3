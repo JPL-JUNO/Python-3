{
 "cells": [
  {
   "cell_type": "code",
   "execution_count": 1,
   "metadata": {},
   "outputs": [
    {
     "name": "stdout",
     "output_type": "stream",
     "text": [
      "\n",
      "@File         : operations_on_sets.ipynb\n",
      "@Author(s)    : Stephen CUI\n",
      "@LastEditor(s): Stephen CUI\n",
      "@CreatedTime  : 2024-05-01 23:41:30\n",
      "@Email        : cuixuanstephen@gmail.com\n",
      "@Description  : Set 操作\n",
      "\n"
     ]
    }
   ],
   "source": [
    "print(\"\"\"\n",
    "@File         : operations_on_sets.ipynb\n",
    "@Author(s)    : Stephen CUI\n",
    "@LastEditor(s): Stephen CUI\n",
    "@CreatedTime  : 2024-05-01 23:41:30\n",
    "@Email        : cuixuanstephen@gmail.com\n",
    "@Description  : Set 操作\n",
    "\"\"\")"
   ]
  },
  {
   "cell_type": "markdown",
   "metadata": {},
   "source": [
    "Set 是唯一值的无序集合。下表的操作可以在 Set 上执行：\n",
    "\n",
    "Operation|Description|\n",
    "|---|---|\n",
    "`s \\| t`|s 和 t 的并集\n",
    "|`s & t`|s 和 t 的交集\n",
    "|`s – t`|s 和 t 的差集\n",
    "|`s ^ t`|对称差(并集-交集)\n",
    "|`len(s)`|集合中的项数\n",
    "|`item in s`, `item not in s`|成员检查\n",
    "|`s.add(item)`|添加一个项\n",
    "|`s.remove(item)`|如果存在项，则移除，否则报错\n",
    "|`s.discard(item)`|删除一个存在的项"
   ]
  },
  {
   "cell_type": "markdown",
   "metadata": {},
   "source": []
  }
 ],
 "metadata": {
  "kernelspec": {
   "display_name": "Python 3",
   "language": "python",
   "name": "python3"
  },
  "language_info": {
   "codemirror_mode": {
    "name": "ipython",
    "version": 3
   },
   "file_extension": ".py",
   "mimetype": "text/x-python",
   "name": "python",
   "nbconvert_exporter": "python",
   "pygments_lexer": "ipython3",
   "version": "3.11.1"
  }
 },
 "nbformat": 4,
 "nbformat_minor": 2
}
