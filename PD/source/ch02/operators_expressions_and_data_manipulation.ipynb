{
 "cells": [
  {
   "cell_type": "code",
   "execution_count": 2,
   "metadata": {},
   "outputs": [
    {
     "name": "stdout",
     "output_type": "stream",
     "text": [
      "\n",
      "@File         : operators_expressions_and_data_manipulation.ipynb\n",
      "@Author(s)    : Stephen CUI\n",
      "@LastEditor(s): Stephen CUI\n",
      "@CreatedTime  : 2024-04-30 16:00:10\n",
      "@Email        : cuixuanstephen@gmail.com\n",
      "@Description  : 运算符、表达式和数据操作\n",
      "\n"
     ]
    }
   ],
   "source": [
    "print(\"\"\"\n",
    "@File         : operators_expressions_and_data_manipulation.ipynb\n",
    "@Author(s)    : Stephen CUI\n",
    "@LastEditor(s): Stephen CUI\n",
    "@CreatedTime  : 2024-04-30 16:00:10\n",
    "@Email        : cuixuanstephen@gmail.com\n",
    "@Description  : 运算符、表达式和数据操作\n",
    "\"\"\")"
   ]
  },
  {
   "cell_type": "markdown",
   "metadata": {},
   "source": [
    "## 字面量"
   ]
  },
  {
   "cell_type": "markdown",
   "metadata": {},
   "source": [
    "字面值是直接输入到程序中的值，例如 42、4.2 或“四十二”。\n",
    "\n",
    "整数字面值表示任意大小的有符号整数值。可以指定二进制、八进制或十六进制的整数："
   ]
  },
  {
   "cell_type": "code",
   "execution_count": 3,
   "metadata": {},
   "outputs": [
    {
     "data": {
      "text/plain": [
       "42"
      ]
     },
     "execution_count": 3,
     "metadata": {},
     "output_type": "execute_result"
    }
   ],
   "source": [
    "42 # 十进制整数"
   ]
  },
  {
   "cell_type": "code",
   "execution_count": 4,
   "metadata": {},
   "outputs": [
    {
     "data": {
      "text/plain": [
       "42"
      ]
     },
     "execution_count": 4,
     "metadata": {},
     "output_type": "execute_result"
    }
   ],
   "source": [
    "0b101010"
   ]
  },
  {
   "cell_type": "code",
   "execution_count": 5,
   "metadata": {},
   "outputs": [
    {
     "data": {
      "text/plain": [
       "42"
      ]
     },
     "execution_count": 5,
     "metadata": {},
     "output_type": "execute_result"
    }
   ],
   "source": [
    "0o52"
   ]
  },
  {
   "cell_type": "code",
   "execution_count": 6,
   "metadata": {},
   "outputs": [
    {
     "data": {
      "text/plain": [
       "42"
      ]
     },
     "execution_count": 6,
     "metadata": {},
     "output_type": "execute_result"
    }
   ],
   "source": [
    "0x2a"
   ]
  },
  {
   "cell_type": "markdown",
   "metadata": {},
   "source": [
    "基数不存储为整数值的一部分。如果打印的话，以上所有文字都将显示为 42。你可以使用内置函数 `bin(x)`、`oct(x)` 或 `hex(x)` 将整数转换为以不同基数表示其值的字符串。\n",
    "\n",
    "浮点数可以通过添加小数点或使用科学计数法（其中 `e` 或 `E` 指定指数）来书写。以下均为浮点数："
   ]
  },
  {
   "cell_type": "code",
   "execution_count": 7,
   "metadata": {},
   "outputs": [
    {
     "data": {
      "text/plain": [
       "-0.042"
      ]
     },
     "execution_count": 7,
     "metadata": {},
     "output_type": "execute_result"
    }
   ],
   "source": [
    "4.2\n",
    "42.0\n",
    "0.42\n",
    "4.2e2\n",
    "4.2E2\n",
    "-4.2e-2"
   ]
  },
  {
   "cell_type": "code",
   "execution_count": 8,
   "metadata": {},
   "outputs": [
    {
     "data": {
      "text/plain": [
       "'hello world'"
      ]
     },
     "execution_count": 8,
     "metadata": {},
     "output_type": "execute_result"
    }
   ],
   "source": [
    "'hello world'\n",
    "\"hello world\"\n",
    "'''hello world'''\n",
    "\"\"\"hello world\"\"\""
   ]
  },
  {
   "cell_type": "code",
   "execution_count": 9,
   "metadata": {},
   "outputs": [
    {
     "data": {
      "text/plain": [
       "{'x': 1, 'y': 2, 'z': 3}"
      ]
     },
     "execution_count": 9,
     "metadata": {},
     "output_type": "execute_result"
    }
   ],
   "source": [
    "(1, 2, 3)\n",
    "[1, 2, 3]\n",
    "{1, 2, 3}\n",
    "{\"x\": 1, \"y\": 2, \"z\": 3}"
   ]
  },
  {
   "cell_type": "markdown",
   "metadata": {},
   "source": [
    "## 表达式和地址"
   ]
  },
  {
   "cell_type": "markdown",
   "metadata": {},
   "source": [
    "表达式**表示计算结果为具体值的计算**。它由字面值、名称、运算符以及函数或方法调用的组合组成。表达式始终可以出现在赋值语句的右侧，用作其他表达式中的操作数，或作为函数参数传递。"
   ]
  },
  {
   "cell_type": "code",
   "execution_count": 10,
   "metadata": {},
   "outputs": [],
   "source": [
    "from math import sqrt\n",
    "\n",
    "value = 2 + 3 + 5 + sqrt(6 + 7)"
   ]
  },
  {
   "cell_type": "markdown",
   "metadata": {},
   "source": [
    "赋值语句的左侧表示地址，该地址存储了一个对象引用。该地址可能是一个简单的标识符，也可能是对象的属性或容器中的索引。"
   ]
  },
  {
   "cell_type": "markdown",
   "metadata": {},
   "source": [
    "```python\n",
    "a = 4 + 2\n",
    "b[1] = 4 + 2\n",
    "c[\"key\"] = 4 + 2\n",
    "d.value = 4 + 2\n",
    "```"
   ]
  },
  {
   "cell_type": "markdown",
   "metadata": {},
   "source": [
    "赋值和表达式的求值是两个不同的概念。特别是，不能将赋值运算符包含在表达式中。"
   ]
  },
  {
   "cell_type": "markdown",
   "metadata": {},
   "source": [
    "```python\n",
    "while line=file.readline(): # 语法错误\n",
    "    print(line)\n",
    "```"
   ]
  },
  {
   "cell_type": "markdown",
   "metadata": {},
   "source": [
    "但是，可以使用“赋值表达式”运算符(`:=`)来执行此操作表达式求值与赋值的组合动作。"
   ]
  },
  {
   "cell_type": "markdown",
   "metadata": {},
   "source": [
    "```python\n",
    "while (line:=file.readline()):\n",
    "    print(line)\n",
    "```"
   ]
  },
  {
   "cell_type": "code",
   "execution_count": 12,
   "metadata": {},
   "outputs": [
    {
     "data": {
      "text/plain": [
       "6"
      ]
     },
     "execution_count": 12,
     "metadata": {},
     "output_type": "execute_result"
    }
   ],
   "source": [
    "pow(2, 4, 10)"
   ]
  },
  {
   "cell_type": "markdown",
   "metadata": {},
   "source": [
    "## 标准运算符"
   ]
  },
  {
   "cell_type": "markdown",
   "metadata": {},
   "source": [
    "Python 对象可以使用下表中的任何运算符。"
   ]
  },
  {
   "cell_type": "markdown",
   "metadata": {},
   "source": [
    "|运算符|描述|\n",
    "|---|---|\n",
    "|`x + y` |加 \n",
    "|`x - y` |减 \n",
    "|`x * y` |乘 \n",
    "|`x / y` |除 \n",
    "|`x // y` |整除 \n",
    "|`x @ y` |矩阵乘法 \n",
    "|`x ** y` |幂运算\n",
    "|`x % y` |取模，取余\n",
    "|`x << y `|左移\n",
    "|`x >> y` |右移\n",
    "|`x & y` |位与\n",
    "|`x \\| y` |位或\n",
    "|`x ^ y` |位异或\n",
    "|`~x` |按位取反\n",
    "|`–x`|一元负号\n",
    "|`+x`|一元正好\n",
    "|`abs(x)`|求绝对值\n",
    "|`divmod(x,y)`|返回 `(x//y, x%y)`\n",
    "|`pow(x,y [,modulo])`|如果参数 `modulo` 缺少，返回 `x**y`，否则返回 `(x ** y) % modulo`\n",
    "|`round(x,[n])`|结果舍入到最接近的 10 的负 n 次幂的倍数"
   ]
  },
  {
   "cell_type": "markdown",
   "metadata": {},
   "source": [
    "一般来说，这里都用数字来描述。然而，也有一些值得注意的特殊情况。例如，+ 运算符也用于连接序列，* 运算符复制序列，‑ 用于集合差集，% 执行字符串格式化。"
   ]
  },
  {
   "cell_type": "code",
   "execution_count": 13,
   "metadata": {},
   "outputs": [
    {
     "data": {
      "text/plain": [
       "'Dave has 37 messages'"
      ]
     },
     "execution_count": 13,
     "metadata": {},
     "output_type": "execute_result"
    }
   ],
   "source": [
    "[1, 2, 3] + [4, 5]\n",
    "[1, 2, 3] * 4\n",
    "\"%s has %d messages\" % (\"Dave\", 37)"
   ]
  },
  {
   "cell_type": "markdown",
   "metadata": {},
   "source": [
    "检查运算符是一个动态过程。如果直觉认为运算可行，则涉及混合数据类型的运算通常会“有效”。"
   ]
  },
  {
   "cell_type": "code",
   "execution_count": 14,
   "metadata": {},
   "outputs": [
    {
     "data": {
      "text/plain": [
       "Fraction(17, 3)"
      ]
     },
     "execution_count": 14,
     "metadata": {},
     "output_type": "execute_result"
    }
   ],
   "source": [
    "from fractions import Fraction\n",
    "\n",
    "a = Fraction(2, 3)\n",
    "b = 5\n",
    "a + b"
   ]
  },
  {
   "cell_type": "markdown",
   "metadata": {},
   "source": [
    "但是，它并不总是万无一失的。例如对小数就不起作用。"
   ]
  },
  {
   "cell_type": "code",
   "execution_count": 15,
   "metadata": {},
   "outputs": [
    {
     "ename": "TypeError",
     "evalue": "unsupported operand type(s) for +: 'Fraction' and 'decimal.Decimal'",
     "output_type": "error",
     "traceback": [
      "\u001b[1;31m---------------------------------------------------------------------------\u001b[0m",
      "\u001b[1;31mTypeError\u001b[0m                                 Traceback (most recent call last)",
      "Cell \u001b[1;32mIn[15], line 5\u001b[0m\n\u001b[0;32m      3\u001b[0m a \u001b[38;5;241m=\u001b[39m Fraction(\u001b[38;5;241m2\u001b[39m, \u001b[38;5;241m3\u001b[39m)\n\u001b[0;32m      4\u001b[0m b \u001b[38;5;241m=\u001b[39m Decimal(\u001b[38;5;124m\"\u001b[39m\u001b[38;5;124m5\u001b[39m\u001b[38;5;124m\"\u001b[39m)\n\u001b[1;32m----> 5\u001b[0m \u001b[43ma\u001b[49m\u001b[43m \u001b[49m\u001b[38;5;241;43m+\u001b[39;49m\u001b[43m \u001b[49m\u001b[43mb\u001b[49m\n",
      "\u001b[1;31mTypeError\u001b[0m: unsupported operand type(s) for +: 'Fraction' and 'decimal.Decimal'"
     ]
    }
   ],
   "source": [
    "from decimal import Decimal\n",
    "\n",
    "a = Fraction(2, 3)\n",
    "b = Decimal(\"5\")\n",
    "a + b"
   ]
  },
  {
   "cell_type": "markdown",
   "metadata": {},
   "source": [
    "## 就地赋值"
   ]
  },
  {
   "cell_type": "markdown",
   "metadata": {},
   "source": [
    "Python 提供了“就地”或“增强”赋值操作。"
   ]
  },
  {
   "cell_type": "markdown",
   "metadata": {},
   "source": [
    "操作|描述\n",
    "|---|---|\n",
    "|`x += y`|`x = x + y`|\n",
    "|`x -= y`|`x = x - y`|\n",
    "|`x *= y`|`x = x * y`|\n",
    "|`x /= y`|`x = x / y`|\n",
    "|`x //= y`|`x = x // y`|\n",
    "|`x **= y`|`x = x ** y`|\n",
    "|`x %= y`|`x = x % y`|\n",
    "|`x @= y`|`x = x @ y`|\n",
    "|`x &= y`|`x = x & y`|\n",
    "|`x \\|= y`|`x = x \\| y`|\n",
    "|`x ^= y`|`x = x ^ y`|\n",
    "|`x >>= y`|`x = x >> y`|\n",
    "|`x <<= y`|`x = x << y`|"
   ]
  },
  {
   "cell_type": "code",
   "execution_count": 16,
   "metadata": {},
   "outputs": [],
   "source": [
    "a = 3\n",
    "a = a + 1\n",
    "a += 1"
   ]
  },
  {
   "cell_type": "markdown",
   "metadata": {},
   "source": [
    "可变对象可以使用这些运算符作为一种优化来执行数据的就地改变："
   ]
  },
  {
   "cell_type": "code",
   "execution_count": 17,
   "metadata": {},
   "outputs": [
    {
     "data": {
      "text/plain": [
       "[1, 2, 3, 4, 5]"
      ]
     },
     "execution_count": 17,
     "metadata": {},
     "output_type": "execute_result"
    }
   ],
   "source": [
    "a = [1, 2, 3]\n",
    "b = a\n",
    "a += [4, 5]\n",
    "a\n",
    "b"
   ]
  },
  {
   "cell_type": "markdown",
   "metadata": {},
   "source": [
    "在此示例中，`a` 和 `b` 是对同一列表的引用。当 `a += [4, 5]` 执行时，它会就地更新列表对象，而不创建新列表。因此，`b` 也看到这次更新。这常常令人惊讶。"
   ]
  },
  {
   "cell_type": "markdown",
   "metadata": {},
   "source": [
    "## 对象比较"
   ]
  },
  {
   "cell_type": "markdown",
   "metadata": {},
   "source": [
    "相等运算符 (`x == y`) 测试 `x` 和 `y` 的**值**是否相等。对于列表和元组，它们必须具有相同的大小、相同的元素并且具有相同的顺序。对于字典，仅当 `x` 和 `y` 具有相同的键并且具有相同键的所有对象具有相同的值时才返回 `True`。如果两个集合具有相同的元素，则它们相等。"
   ]
  },
  {
   "cell_type": "markdown",
   "metadata": {},
   "source": [
    "不兼容类型的对象（例如文件和浮点数）之间的相等性比较不会触发错误，但会返回 `False`。但是，有时不同类型的对象之间的比较会产生 `True`。例如，比较相同值的整数和浮点数："
   ]
  },
  {
   "cell_type": "code",
   "execution_count": 18,
   "metadata": {},
   "outputs": [],
   "source": [
    "assert 2 == 2.0"
   ]
  },
  {
   "cell_type": "markdown",
   "metadata": {},
   "source": [
    "同一性运算符（`x is y` 和 `x is not y`）测试两个值以查看它们是否引用内存中的同一个对象（例如，`id(x) == id(y)`）。通常，可能存在 `x == y`，但 `x is not y` 的情况。"
   ]
  },
  {
   "cell_type": "markdown",
   "metadata": {},
   "source": [
    "在实践中，使用 `is` 运算符比较对象几乎从来都不是你想要的。使用除非有充分理由预期两个对象具有相同的标识，否则所有比较均使用 `==` 运算符。"
   ]
  },
  {
   "cell_type": "markdown",
   "metadata": {},
   "source": [
    "## 有序比较运算符"
   ]
  },
  {
   "cell_type": "markdown",
   "metadata": {},
   "source": [
    "下表中的有序比较运算符具有数字的标准数学解释，它们返回布尔值。"
   ]
  },
  {
   "cell_type": "markdown",
   "metadata": {},
   "source": [
    "操作|描述\n",
    "|---|---|\n",
    "`x < y`| 小于\n",
    "`x > y`| 大于\n",
    "`x >= y`|大于或等于\n",
    "`x <= y`|小于或等于"
   ]
  },
  {
   "cell_type": "markdown",
   "metadata": {},
   "source": [
    "对于集合，`x < y` 测试 `x` 是否是 `y` 的严格子集（即元素较少，但不等于 `y`）。\n",
    "\n",
    "比较两个序列时，将比较每个序列的第一个元素。如果如果它们不同，则结果将由此决定。如果它们相同，则比较将移至每个序列的第二个元素。此过程将持续进行，直到找到两个不同的元素或任一序列中都不再存在元素。如果到达两个序列的末尾，则认为这两个序列相等。如果 `a` 是 `b` 的子序列，则 `a < b`。\n",
    "\n",
    "字符串和字节按字典顺序进行比较。每个字符都分配有一个由字符集（如 ASCII 或 Unicode）确定的唯一数字索引。如果一个字符的索引较小，则该字符小于另一个字符。\n",
    "\n",
    "并非所有类型都支持有序比较。例如，尝试使用在字典上使用 `<` 具有不确定因素，导致 `TypeError`。同样，对不兼容的类型（例如字符串和数字）进行有序比较也会导致 `TypeError`。"
   ]
  },
  {
   "cell_type": "markdown",
   "metadata": {},
   "source": [
    "## 布尔表达式及真值"
   ]
  },
  {
   "cell_type": "markdown",
   "metadata": {},
   "source": [
    "`and`、`or` 和 `not` 运算符可以形成复杂的布尔表达式。这些运算符的行为如下表所示。"
   ]
  },
  {
   "cell_type": "markdown",
   "metadata": {},
   "source": [
    "Operator|Description\n",
    "|---|---|\n",
    "`x or y`|如果 `x` 为假，则返回 `y`；否则，返回 `x`。\n",
    "`x and y`|如果 `x` 为假，则返回 `x`；否则，返回 `y`。\n",
    "`not x`|如果 `x` 为假，则返回 `True`；否则，返回 `False`。"
   ]
  },
  {
   "cell_type": "markdown",
   "metadata": {},
   "source": [
    "当使用表达式确定 `True` 或 `False` 值时，`True`、任何非零数字、非空字符串、非空列表、非空元组或非空字典都被视为 `True`。`False`、零、`None` 和空列表、空元组和空字典的计算结果为 `False`。"
   ]
  },
  {
   "cell_type": "markdown",
   "metadata": {},
   "source": [
    "布尔表达式从左到右进行计算，并且仅在需要确定最终值时才使用右侧操作数。例如，仅当 `a` 为真时，`a and b` 才会计算 `b`。这称为短路评估。它对于简化涉及测试和后续操作的代码很有用。"
   ]
  },
  {
   "cell_type": "markdown",
   "metadata": {},
   "source": [
    "```python\n",
    "if y != 0:\n",
    "    result = x / y\n",
    "else:\n",
    "    result = 0\n",
    "```\n",
    "\n",
    "```python\n",
    "result = y and x / y\n",
    "```"
   ]
  },
  {
   "cell_type": "markdown",
   "metadata": {},
   "source": [
    "依赖对象的隐式“真实性”可能会导致难以发现的错误。"
   ]
  },
  {
   "cell_type": "markdown",
   "metadata": {},
   "source": [
    "```python\n",
    ">>> def foo(x, items=None):\n",
    "...     if not items:\n",
    "...         items = []\n",
    "...     items.append(x)\n",
    "...     return items\n",
    "...\n",
    ">>>\n",
    ">>> foo(4)\n",
    "[4]\n",
    ">>>\n",
    ">>> a = []\n",
    ">>> foo(3, a)\n",
    "[3]\n",
    ">>> a\n",
    "[]\n",
    ">>>\n",
    "```"
   ]
  },
  {
   "cell_type": "markdown",
   "metadata": {},
   "source": [
    "这是一个真值检查方面的 bug。空列表的计算结果为 `False`，因此代码会创建一个新列表，而不是使用作为参数传入的列表 `a`。要修复此问题，需要更精确地检查是否为 `None`："
   ]
  },
  {
   "cell_type": "markdown",
   "metadata": {},
   "source": [
    "```python\n",
    ">>> def f(x, items=None):\n",
    "...     if items is None:\n",
    "...         items = []\n",
    "...     items.append(x)\n",
    "...     return items\n",
    "...\n",
    ">>>\n",
    ">>> f(3, a)\n",
    "[3]\n",
    ">>> a\n",
    "[3]\n",
    ">>>\n",
    "```"
   ]
  },
  {
   "cell_type": "markdown",
   "metadata": {},
   "source": [
    "在编写条件检查时保持精确始终是一个好习惯。"
   ]
  },
  {
   "cell_type": "markdown",
   "metadata": {},
   "source": [
    "## 条件表达式"
   ]
  },
  {
   "cell_type": "markdown",
   "metadata": {},
   "source": [
    "一种常见的编程模式是根据表达式的结果有条件地分配值。"
   ]
  },
  {
   "cell_type": "markdown",
   "metadata": {},
   "source": [
    "```python\n",
    "if a <= b:\n",
    "    min_value = a\n",
    "else:\n",
    "    min_value = b\n",
    "```"
   ]
  },
  {
   "cell_type": "markdown",
   "metadata": {},
   "source": [
    "可以使用条件表达式来缩短此代码：\n",
    "\n",
    "```python\n",
    "min_value = a if a <= b else b\n",
    "```"
   ]
  },
  {
   "cell_type": "markdown",
   "metadata": {},
   "source": [
    "在此类表达式中，首先计算中间的条件。如果结果为 True，则对 if 左边的表达式进行求值。否则，将执行 else 后面的表达式。else 子句始终是必需的。"
   ]
  },
  {
   "cell_type": "markdown",
   "metadata": {},
   "source": [
    "## 迭代操作"
   ]
  },
  {
   "cell_type": "markdown",
   "metadata": {},
   "source": [
    "迭代是一个重要的 Python 特性，所有 Python 容器（列表、元组、字典等）、文件以及生成器函数。下表中的操作可以应用于任何可迭代对象。"
   ]
  },
  {
   "cell_type": "markdown",
   "metadata": {},
   "source": [
    "Operation|Description\n",
    "|---|---|\n",
    "`for vars in s:`|迭代\n",
    "`v1, v2, ... = s`|变量析构\n",
    "`x in s, x not in s`|成员检查\n",
    "`[a, *s, b], (a, *s, b), {a, *s, b}`|在列表、元组或集合字面量中展开"
   ]
  },
  {
   "cell_type": "markdown",
   "metadata": {},
   "source": [
    "可迭代对象最基本的操作是 `for` 循环。这是迭代的方式逐一检查这些值。所有其他操作都以此为基础。\n",
    "\n",
    "`x in s` 运算符测试对象 `x` 是否作为以下运算符生成的项之一出现可迭代对象 `s` 并返回 `True` 或 `False`。`x not in s` 运算符与 `not (x in s)` 。对于字符串，`in` 和 `not in` 运算符接受子字符串。例如，`\"hello\" in \"hello world\"` 中产生 `True`。请注意， `in` 运算符不支持通配符或任何类型的模式匹配。"
   ]
  },
  {
   "cell_type": "markdown",
   "metadata": {},
   "source": [
    "任何支持迭代的对象都可以将其值解包到一系列地址。"
   ]
  },
  {
   "cell_type": "code",
   "execution_count": 19,
   "metadata": {},
   "outputs": [],
   "source": [
    "items = [3, 4, 5]\n",
    "x, y, z = items\n",
    "\n",
    "letters = \"abc\"\n",
    "x, y, z = letters"
   ]
  },
  {
   "cell_type": "markdown",
   "metadata": {},
   "source": [
    "左侧的地址不必是简单的变量名。任何可以出现在等号的左侧的有效地址是可以接受的。"
   ]
  },
  {
   "cell_type": "code",
   "execution_count": 20,
   "metadata": {},
   "outputs": [],
   "source": [
    "items = [3, 4, 5]\n",
    "d = {}\n",
    "d[\"x\"], d[\"y\"], d[\"z\"] = items"
   ]
  },
  {
   "cell_type": "markdown",
   "metadata": {},
   "source": [
    "将值解包到位置时，左侧位置的数量必须恰好匹配右侧可迭代项中的项目数。对于嵌套数据结构，匹配位置和数据遵循相同的结构模式。"
   ]
  },
  {
   "cell_type": "code",
   "execution_count": 21,
   "metadata": {},
   "outputs": [],
   "source": [
    "datetime = ((5, 9, 2008), (10, \"30\", \"am\"))\n",
    "(month, day, year), (hour, minute, am_pm) = datetime"
   ]
  },
  {
   "cell_type": "markdown",
   "metadata": {},
   "source": [
    "有时候，`_` 变量在拆包时可用来表示一个被丢弃的值："
   ]
  },
  {
   "cell_type": "code",
   "execution_count": 22,
   "metadata": {},
   "outputs": [],
   "source": [
    "(_, day, _), (hour, _, _) = datetime"
   ]
  },
  {
   "cell_type": "markdown",
   "metadata": {},
   "source": [
    "如果不知道要解构的项数量，可以使用扩展形式通过包含带星号的变量来解包"
   ]
  },
  {
   "cell_type": "code",
   "execution_count": 23,
   "metadata": {},
   "outputs": [],
   "source": [
    "items = [1, 2, 3, 4, 5]\n",
    "a, b, *extra = items\n",
    "*extra, a, b = items\n",
    "a, *extra, b = items"
   ]
  },
  {
   "cell_type": "markdown",
   "metadata": {},
   "source": [
    "`*extra` 接收所有额外项目，它始终是一个列表。当解构一个可迭代对象时，最多只能使用一个带星号的变量。然而，当解构更复杂的包含不同可迭代对象的数据结构时，则可以使用多个星号变量："
   ]
  },
  {
   "cell_type": "code",
   "execution_count": 24,
   "metadata": {},
   "outputs": [],
   "source": [
    "(month, *_), (hour, *_) = datetime"
   ]
  },
  {
   "cell_type": "markdown",
   "metadata": {},
   "source": [
    "**在列出列表、元组和集合字面量时，任何可迭代对象都可以被展开**。这也是使用星号(`*`)完成。"
   ]
  },
  {
   "cell_type": "markdown",
   "metadata": {},
   "source": [
    "```python\n",
    ">>> items = [1, 2, 3]\n",
    ">>> a = [10, *items, 11]\n",
    ">>> b = (*items, 10, *items)\n",
    ">>> c = {10, 11, *items}\n",
    ">>> a\n",
    "[10, 1, 2, 3, 11]\n",
    ">>> b\n",
    "(1, 2, 3, 10, 1, 2, 3)\n",
    ">>> c\n",
    "{1, 2, 3, 10, 11}\n",
    ">>>\n",
    "```"
   ]
  },
  {
   "cell_type": "markdown",
   "metadata": {},
   "source": [
    "在这个例子中，`items` 的内容只是粘贴到列表、元组或集合中，就像在该位置键入内容一样。这种扩展称为“泼溅”。定义字面量时，可以根据需要包含任意数量的 `*` 扩展。但是，许多可迭代对象（例如文件或生成器）仅支持一次迭代。如果你使用 `*` 扩展，内容将被消耗，并且迭代器不会再产生任何内容后续迭代中的值。"
   ]
  },
  {
   "cell_type": "markdown",
   "metadata": {},
   "source": [
    "各种内置函数都接受任何可迭代对象作为输入。下表列出了一些这些操作。"
   ]
  },
  {
   "cell_type": "markdown",
   "metadata": {},
   "source": [
    "函数|描述\n",
    "|---|---|\n",
    "`list(s)`|从 s 创建一个列表\n",
    "`tuple(s)`|从 s 创建一个列表\n",
    "`set(s)`|从 s 创建一个 Set\n",
    "`min(s [,key])`|s 中的最小项\n",
    "`max(s [,key])`|s 中的最大想\n",
    "`any(s)`|如果 s 中的任一项为真，则返回 True\n",
    "`all(s)`|如果 s 中的所有项为真，则返回 True\n",
    "`sum(s [, initial])`|所有项的总和，带有一个可选的初始值\n",
    "`sorted(s [, key])`|创建一个排序列表"
   ]
  },
  {
   "cell_type": "markdown",
   "metadata": {},
   "source": [
    "## 序列操作"
   ]
  },
  {
   "cell_type": "markdown",
   "metadata": {},
   "source": [
    "序列是一个可迭代的容器，具有一定的大小，并允许通过从 0 开始的整数索引，比如说字符串、列表和元组。除了所有涉及迭代的运算，下表中的运算符可以应用于序列。"
   ]
  },
  {
   "cell_type": "markdown",
   "metadata": {},
   "source": [
    "操作符|描述|\n",
    "|---|---|\n",
    "`s + r`|连接|\n",
    "`s * n`, `n * s`|将 s 赋值 n 次，其中 n 是整数|\n",
    "`s[i]`|索引|\n",
    "`s[i:j]`|切片|\n",
    "`s[i:j:stride]`|拓展的切片|\n",
    "`len(s)`|求长度"
   ]
  },
  {
   "cell_type": "markdown",
   "metadata": {},
   "source": [
    "`+` 运算符连接两个相同类型的序列。例如："
   ]
  },
  {
   "cell_type": "markdown",
   "metadata": {},
   "source": [
    "```python\n",
    ">>> a = [1, 2, 3]\n",
    ">>> b = [4, 5]\n",
    ">>> a + b\n",
    "[1, 2, 3, 4, 5]\n",
    ">>>\n",
    "```"
   ]
  },
  {
   "cell_type": "markdown",
   "metadata": {},
   "source": [
    "`s * n` 运算符制作序列的 `n` 个副本。然而，这些都是浅拷贝，仅通过引用复制元素。考虑以下代码："
   ]
  },
  {
   "cell_type": "markdown",
   "metadata": {},
   "source": [
    "```python\n",
    ">>> a = [3, 4, 5]\n",
    ">>> b = [a]\n",
    ">>> c = 4 * b\n",
    ">>> c\n",
    "[[3, 4, 5], [3, 4, 5], [3, 4, 5], [3, 4, 5]]\n",
    ">>> a[0] = -7\n",
    ">>> c\n",
    "[[-7, 4, 5], [-7, 4, 5], [-7, 4, 5], [-7, 4, 5]]\n",
    ">>>\n",
    "```"
   ]
  },
  {
   "cell_type": "markdown",
   "metadata": {},
   "source": [
    "请注意对 `a` 的更改如何修改列表 `c` 的每个元素。在本例中，对列表 `a` 的引用被放置在列表 `b` 中。复制 `b` 时，创建了四个对 `a` 的附加引用。最后，当 `a` 被修改时，此更改会传播到 `a` 的所有其他副本。这种序列乘法的行为通常不是程序员的意图。解决该问题的一种方法是通过复制 `a` 的内容来手动构建复制序\n",
    "列。这是一个例子：\n",
    "\n",
    "```python\n",
    "a = [3, 4, 5]\n",
    "c = [list(a) for _ in range(4)]\n",
    "```"
   ]
  },
  {
   "cell_type": "markdown",
   "metadata": {},
   "source": [
    "负索引可用于从序列末尾获取字符。尝试访问超出范围的元素会导致 `IndexError` 异常。允许使用负索引，并假定为相对于序列的结尾。"
   ]
  },
  {
   "cell_type": "markdown",
   "metadata": {},
   "source": [
    "```python\n",
    ">>> a = [0, 1, 2, 3, 4, 5, 6, 7, 8, 9]\n",
    ">>> a[2:5]\n",
    "[2, 3, 4]\n",
    ">>> a[:3]\n",
    "[0, 1, 2]\n",
    ">>> a[-3:]\n",
    "[7, 8, 9]\n",
    ">>> a[::2]\n",
    "[0, 2, 4, 6, 8]\n",
    ">>> a[::-2]\n",
    "[9, 7, 5, 3, 1]\n",
    ">>> a[0:5:2]\n",
    "[0, 2, 4]\n",
    ">>> a[5:0:-2]\n",
    "[5, 3, 1]\n",
    ">>> a[:5:1]\n",
    "[0, 1, 2, 3, 4]\n",
    ">>> a[:5:-1]\n",
    "[9, 8, 7, 6]\n",
    ">>> a[5::1]\n",
    "[5, 6, 7, 8, 9]\n",
    ">>> a[5::-1]\n",
    "[5, 4, 3, 2, 1, 0]\n",
    ">>> a[5:0:-1]\n",
    "[5, 4, 3, 2, 1]\n",
    ">>>\n",
    "```"
   ]
  },
  {
   "cell_type": "markdown",
   "metadata": {},
   "source": [
    "复杂的切片可能会导致代码在之后难以理解。切片可以使用 `slice()` 来命名。\n",
    "\n",
    "```python\n",
    ">>> first_five = slice(0, 5)\n",
    ">>> s = \"hello world\"\n",
    ">>> print(s[first_five])\n",
    "hello\n",
    ">>>\n",
    "```"
   ]
  },
  {
   "cell_type": "markdown",
   "metadata": {},
   "source": [
    "## 可变序列操作\n",
    "\n",
    "列表或其他可变序列可以使用下表中的运算符进行就地修改。"
   ]
  },
  {
   "cell_type": "markdown",
   "metadata": {},
   "source": [
    "Operation|Description|\n",
    "|---|---|\n",
    "`s[i] = x`|索引赋值\n",
    "|`s[i:j] = r`|切片赋值\n",
    "|`s[i:j:stride] = r`|拓展切片赋值\n",
    "|`del s[i]`|删除一个元素\n",
    "|`del s[i:j]`|删除切片\n",
    "|`del s[i:j:stride]`|删除切片拓展"
   ]
  },
  {
   "cell_type": "markdown",
   "metadata": {},
   "source": [
    "`s[i] = x` 运算符更改序列的元素i以引用对象 `x`，增加 `x` 的引用计数。负索引相对于列表的末尾和尝试为超出范围的索引分配值会导致 `IndexError` 异常。切片赋值运算符 `s[i:j] = r` 将元素 `k`（其中 `i <= k < j`）替换为元素来自序列 `r`。索引与切片的含义相同。如有必要，序列可以扩大或缩小尺寸以容纳 `r` 中的所有元素。"
   ]
  },
  {
   "cell_type": "markdown",
   "metadata": {},
   "source": [
    "```python\n",
    ">>> a = [1, 2, 3, 4, 5]\n",
    ">>> a[1] = 6\n",
    ">>> a\n",
    "[1, 6, 3, 4, 5]\n",
    ">>> a[2:4] = [10, 11]\n",
    ">>> a\n",
    "[1, 6, 10, 11, 5]\n",
    ">>> a[3:4] = [-1, -2, -3]\n",
    ">>> a\n",
    "[1, 6, 10, -1, -2, -3, 5]\n",
    ">>> a[2:] = [0]\n",
    ">>> a\n",
    "[1, 6, 0]\n",
    ">>>\n",
    "```"
   ]
  },
  {
   "cell_type": "markdown",
   "metadata": {},
   "source": [
    "切片赋值可以提供可选的步长参数。但是，那行为会受到更多限制，因为右侧的参数必须完全具有与被替换的切片具有相同数量的元素。"
   ]
  },
  {
   "cell_type": "markdown",
   "metadata": {},
   "source": [
    "```python\n",
    ">>> a = [1, 2, 3, 4, 5]\n",
    ">>> a[1::2] = [10, 11]\n",
    ">>> a[1::2] = [30, 40, 50]\n",
    "Traceback (most recent call last):\n",
    "  File \"<stdin>\", line 1, in <module>\n",
    "ValueError: attempt to assign sequence of size 3 to extended slice of size 2\n",
    ">>>\n",
    "```"
   ]
  },
  {
   "cell_type": "markdown",
   "metadata": {},
   "source": [
    "`del s[i]` 运算符从序列中删除元素 `i`，并减少其引用计数。`del s[i:j]` 删除切片中的所有元素。步长也可以提供，如 `del s[i:j:stride]` 中所示。\n",
    "\n",
    "此处描述的语义适用于内置列表类型。涉及序列切片是第三方包中可供定制的丰富领域。你可能会发现非列表对象上的切片在重新分配、删除和删除方面有不同的规则对象共享。例如，流行的 numpy 包具有不同的切片语义比 Python 列表。"
   ]
  }
 ],
 "metadata": {
  "kernelspec": {
   "display_name": "Python 3",
   "language": "python",
   "name": "python3"
  },
  "language_info": {
   "codemirror_mode": {
    "name": "ipython",
    "version": 3
   },
   "file_extension": ".py",
   "mimetype": "text/x-python",
   "name": "python",
   "nbconvert_exporter": "python",
   "pygments_lexer": "ipython3",
   "version": "3.11.1"
  }
 },
 "nbformat": 4,
 "nbformat_minor": 2
}
